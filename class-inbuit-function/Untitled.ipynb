{
 "cells": [
  {
   "cell_type": "code",
   "execution_count": 3,
   "id": "a56753eb-f449-4c30-8137-a71f6ddd2c94",
   "metadata": {},
   "outputs": [
    {
     "name": "stdin",
     "output_type": "stream",
     "text": [
      "Enter first number 45\n",
      "Enter second number 45\n"
     ]
    },
    {
     "name": "stdout",
     "output_type": "stream",
     "text": [
      "4545\n"
     ]
    }
   ],
   "source": [
    "a=input(\"Enter first number\")\n",
    "b=input(\"Enter second number\")\n",
    "print(a+b)"
   ]
  },
  {
   "cell_type": "code",
   "execution_count": 6,
   "id": "2eaebe3d-acd2-4a70-9487-41e55fc6de19",
   "metadata": {},
   "outputs": [
    {
     "name": "stdout",
     "output_type": "stream",
     "text": [
      "helo\n",
      "good morning\n"
     ]
    }
   ],
   "source": [
    "print(\"helo\")\n",
    "print(\"good morning\")"
   ]
  },
  {
   "cell_type": "code",
   "execution_count": 13,
   "id": "1f1d0e47-312a-466d-a708-bedf3d70ef52",
   "metadata": {},
   "outputs": [
    {
     "name": "stdout",
     "output_type": "stream",
     "text": [
      "10,20,30,\n",
      "10:20:30:"
     ]
    }
   ],
   "source": [
    "a=10\n",
    "b=20\n",
    "c=30\n",
    "print(a, end=\",\")\n",
    "print(b, end=\",\")\n",
    "print(c, end=\",\")\n",
    "print()\n",
    "print(a, end=\":\")\n",
    "print(b, end=\":\")\n",
    "print(c, end=\":\")\n"
   ]
  },
  {
   "cell_type": "code",
   "execution_count": null,
   "id": "5b21ab96-93cd-4871-82e3-c88e8ba32f00",
   "metadata": {},
   "outputs": [],
   "source": []
  },
  {
   "cell_type": "code",
   "execution_count": null,
   "id": "29cec7c7-5bb0-4791-8b05-e39aaa2b69e7",
   "metadata": {},
   "outputs": [],
   "source": []
  }
 ],
 "metadata": {
  "kernelspec": {
   "display_name": "Python 3 (ipykernel)",
   "language": "python",
   "name": "python3"
  },
  "language_info": {
   "codemirror_mode": {
    "name": "ipython",
    "version": 3
   },
   "file_extension": ".py",
   "mimetype": "text/x-python",
   "name": "python",
   "nbconvert_exporter": "python",
   "pygments_lexer": "ipython3",
   "version": "3.11.9"
  }
 },
 "nbformat": 4,
 "nbformat_minor": 5
}
