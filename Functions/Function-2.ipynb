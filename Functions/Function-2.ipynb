{
 "cells": [
  {
   "cell_type": "code",
   "execution_count": 1,
   "id": "9bbd1606-bca9-474e-926e-29da387d1cee",
   "metadata": {},
   "outputs": [
    {
     "ename": "NameError",
     "evalue": "name 'calc' is not defined",
     "output_type": "error",
     "traceback": [
      "\u001b[1;31m---------------------------------------------------------------------------\u001b[0m",
      "\u001b[1;31mNameError\u001b[0m                                 Traceback (most recent call last)",
      "Cell \u001b[1;32mIn[1], line 1\u001b[0m\n\u001b[1;32m----> 1\u001b[0m \u001b[43mcalc\u001b[49m(\u001b[38;5;241m100\u001b[39m,\u001b[38;5;241m200\u001b[39m)\n\u001b[0;32m      2\u001b[0m calc(\u001b[38;5;241m200\u001b[39m,\u001b[38;5;241m100\u001b[39m)\n",
      "\u001b[1;31mNameError\u001b[0m: name 'calc' is not defined"
     ]
    }
   ],
   "source": [
    "calc(100,200)\n",
    "calc(200,100)"
   ]
  },
  {
   "cell_type": "code",
   "execution_count": 2,
   "id": "dc9ecf16-ef16-49b9-825a-9eafdba90f9d",
   "metadata": {},
   "outputs": [
    {
     "ename": "NameError",
     "evalue": "name 'a' is not defined",
     "output_type": "error",
     "traceback": [
      "\u001b[1;31m---------------------------------------------------------------------------\u001b[0m",
      "\u001b[1;31mNameError\u001b[0m                                 Traceback (most recent call last)",
      "Cell \u001b[1;32mIn[2], line 1\u001b[0m\n\u001b[1;32m----> 1\u001b[0m \u001b[38;5;28mprint\u001b[39m(\u001b[43ma\u001b[49m)\n",
      "\u001b[1;31mNameError\u001b[0m: name 'a' is not defined"
     ]
    }
   ],
   "source": [
    "print(a)"
   ]
  },
  {
   "cell_type": "code",
   "execution_count": 5,
   "id": "519263a2-a52e-472f-bb5b-c88b175ffec6",
   "metadata": {},
   "outputs": [
    {
     "name": "stdout",
     "output_type": "stream",
     "text": [
      "300\n",
      "350\n"
     ]
    }
   ],
   "source": [
    "def calc(a,b):\n",
    "    print(a+b)\n",
    "    \n",
    "calc(100,200)\n",
    "calc(200,150)"
   ]
  },
  {
   "cell_type": "code",
   "execution_count": 7,
   "id": "0f5776af-158f-4bac-a3b2-b5fdf3a0497f",
   "metadata": {},
   "outputs": [
    {
     "name": "stdout",
     "output_type": "stream",
     "text": [
      "-200\n",
      "100\n"
     ]
    }
   ],
   "source": [
    "def calc(a,b):\n",
    "    print(a-b)\n",
    "calc(100,300)\n",
    "calc(200,100)"
   ]
  },
  {
   "cell_type": "code",
   "execution_count": 9,
   "id": "65ed8d29-2c15-4041-b561-dbf39fe7c953",
   "metadata": {},
   "outputs": [
    {
     "name": "stdout",
     "output_type": "stream",
     "text": [
      "-100\n",
      "-100\n"
     ]
    }
   ],
   "source": [
    "def calc(a,b):\n",
    "    print(a-b)\n",
    "calc(a=100,b=200)\n",
    "calc(b=200,a=100)"
   ]
  },
  {
   "cell_type": "code",
   "execution_count": 10,
   "id": "6184dfbe-5a49-4ed1-b7e3-8592500deef4",
   "metadata": {},
   "outputs": [
    {
     "name": "stdout",
     "output_type": "stream",
     "text": [
      "60\n"
     ]
    }
   ],
   "source": [
    "def calc(a,b,c):\n",
    "    print(a+b+c)\n",
    "calc(10,20,30)"
   ]
  },
  {
   "cell_type": "code",
   "execution_count": null,
   "id": "effe8512-39eb-4675-925e-a9f2fa79801a",
   "metadata": {},
   "outputs": [],
   "source": []
  }
 ],
 "metadata": {
  "kernelspec": {
   "display_name": "Python 3 (ipykernel)",
   "language": "python",
   "name": "python3"
  },
  "language_info": {
   "codemirror_mode": {
    "name": "ipython",
    "version": 3
   },
   "file_extension": ".py",
   "mimetype": "text/x-python",
   "name": "python",
   "nbconvert_exporter": "python",
   "pygments_lexer": "ipython3",
   "version": "3.11.9"
  }
 },
 "nbformat": 4,
 "nbformat_minor": 5
}
