{
 "cells": [
  {
   "cell_type": "code",
   "execution_count": 4,
   "id": "b03adbfc-0d2c-48d3-b6ec-1e7e5f92667d",
   "metadata": {},
   "outputs": [
    {
     "name": "stdout",
     "output_type": "stream",
     "text": [
      "True\n",
      "False\n",
      "False\n",
      "True\n"
     ]
    }
   ],
   "source": [
    "ename=\"Rahul\"\n",
    "enames=[\"Rahul\",\"sonia\",\"priyanka\",\"modi\"]\n",
    "list=[10,20,30,40,50]\n",
    "eids=[101,102,103,104]\n",
    "\n",
    "\n",
    "print('h' in ename) \n",
    "print('z' in enames)\n",
    "print('sonia' not in enames)\n",
    "print(101 in eids)"
   ]
  },
  {
   "cell_type": "code",
   "execution_count": null,
   "id": "00630bbc-fa28-4c7d-9b91-e3561657510a",
   "metadata": {},
   "outputs": [],
   "source": [
    "emp={'id':101,'name':'rahul','sal':45000}\n"
   ]
  },
  {
   "cell_type": "code",
   "execution_count": null,
   "id": "9761306c-812e-4e49-bf04-5a521f12694b",
   "metadata": {},
   "outputs": [],
   "source": []
  }
 ],
 "metadata": {
  "kernelspec": {
   "display_name": "Python 3 (ipykernel)",
   "language": "python",
   "name": "python3"
  },
  "language_info": {
   "codemirror_mode": {
    "name": "ipython",
    "version": 3
   },
   "file_extension": ".py",
   "mimetype": "text/x-python",
   "name": "python",
   "nbconvert_exporter": "python",
   "pygments_lexer": "ipython3",
   "version": "3.11.9"
  }
 },
 "nbformat": 4,
 "nbformat_minor": 5
}
