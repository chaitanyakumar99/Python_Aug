{
 "cells": [
  {
   "cell_type": "code",
   "execution_count": null,
   "id": "f82ffe5d-2e0b-4b3a-9089-af69400b0326",
   "metadata": {},
   "outputs": [],
   "source": [
    "ename=[\"Rahul\",\"Kumar\",\"modi\",\"amith\",\"varma\"]\n",
    "for ename in enames\n",
    "print(enames)"
   ]
  },
  {
   "cell_type": "code",
   "execution_count": null,
   "id": "c4ce5084-e721-4dc6-9fbf-73f789f9f377",
   "metadata": {},
   "outputs": [],
   "source": []
  },
  {
   "cell_type": "code",
   "execution_count": 8,
   "id": "0a3fc968-a727-47f5-a5ff-d153551e7c9d",
   "metadata": {},
   "outputs": [
    {
     "name": "stdout",
     "output_type": "stream",
     "text": [
      "1\n",
      "2\n",
      "3\n",
      "4\n",
      "5\n",
      "6\n",
      "7\n",
      "8\n",
      "9\n",
      "10\n",
      "5\n",
      "6\n",
      "7\n",
      "8\n",
      "9\n",
      "10\n",
      "11\n",
      "12\n",
      "13\n",
      "14\n",
      "15\n",
      "16\n",
      "17\n",
      "18\n",
      "19\n",
      "20\n",
      "21\n",
      "22\n",
      "23\n",
      "24\n",
      "25\n",
      "26\n",
      "27\n",
      "28\n",
      "29\n",
      "30\n",
      "31\n",
      "32\n",
      "33\n",
      "34\n",
      "35\n",
      "36\n",
      "37\n",
      "38\n",
      "39\n",
      "40\n",
      "41\n",
      "42\n",
      "43\n",
      "44\n",
      "45\n",
      "46\n",
      "47\n",
      "48\n",
      "49\n",
      "50\n"
     ]
    }
   ],
   "source": [
    "#print 1...... to 10\n",
    "#print 1...... to 100\n",
    "#print 5...... to 50\n",
    "#print 100...... to 51\n",
    "\n",
    "for x in range(1,11,1):\n",
    "    print(x)\n",
    "\n",
    "\n",
    "for x in range(5,51,1):\n",
    "    print(x)\n",
    "\n",
    "for x in range(100 ,51, 1):\n",
    "    print(x)\n"
   ]
  },
  {
   "cell_type": "code",
   "execution_count": 9,
   "id": "499e65fc-8821-4b1c-ac24-dd6da5963c7b",
   "metadata": {},
   "outputs": [
    {
     "name": "stdout",
     "output_type": "stream",
     "text": [
      "5 * 1 = 5\n",
      "5 * 2 = 10\n",
      "5 * 3 = 15\n",
      "5 * 4 = 20\n",
      "5 * 5 = 25\n",
      "5 * 6 = 30\n",
      "5 * 7 = 35\n",
      "5 * 8 = 40\n",
      "5 * 9 = 45\n",
      "5 * 10 = 50\n"
     ]
    }
   ],
   "source": [
    "#5 Table\n",
    "\n",
    "for i in range(1,11):\n",
    "    print(5,\"*\",i,'=',5*i)"
   ]
  },
  {
   "cell_type": "code",
   "execution_count": 10,
   "id": "655979ba-2ee3-4203-8204-a3cd6a6596cf",
   "metadata": {},
   "outputs": [
    {
     "name": "stdout",
     "output_type": "stream",
     "text": [
      "0\n",
      "2\n",
      "4\n",
      "6\n",
      "8\n",
      "10\n",
      "12\n",
      "14\n",
      "16\n",
      "18\n"
     ]
    }
   ],
   "source": [
    "#print first 10 evevn numbers\n",
    "\n",
    "for x in range(0 ,19, 2):\n",
    "    print(x)"
   ]
  },
  {
   "cell_type": "code",
   "execution_count": 11,
   "id": "ea55d5ef-69b8-4f5b-827b-d0faa4444d1f",
   "metadata": {},
   "outputs": [
    {
     "name": "stdout",
     "output_type": "stream",
     "text": [
      "0\t2\t4\t6\t8\t10\t12\t14\t16\t18\t"
     ]
    }
   ],
   "source": [
    "#print first 10 evevn numbers\n",
    "\n",
    "for x in range(0 ,19, 2):\n",
    "    print(x,end=\"\\t\")"
   ]
  },
  {
   "cell_type": "code",
   "execution_count": 14,
   "id": "4c322903-2c31-40aa-aa6a-b949679ae0a5",
   "metadata": {},
   "outputs": [
    {
     "name": "stdout",
     "output_type": "stream",
     "text": [
      "id\n",
      "name\n",
      "Sal\n"
     ]
    }
   ],
   "source": [
    "emp={\n",
    "    \"id\":101,\n",
    "    \"name\":\"RAHUL\",\n",
    "    \"Sal\":45000\n",
    "}\n",
    "for key in emp:\n",
    "    print(key)\n"
   ]
  },
  {
   "cell_type": "code",
   "execution_count": 16,
   "id": "2c592276-be85-4e01-becd-a2bdbeaaef71",
   "metadata": {},
   "outputs": [
    {
     "name": "stdout",
     "output_type": "stream",
     "text": [
      "id : 101\n",
      "name : RAHUL\n",
      "Sal : 45000\n"
     ]
    }
   ],
   "source": [
    "emp={\n",
    "    \"id\":101,\n",
    "    \"name\":\"RAHUL\",\n",
    "    \"Sal\":45000\n",
    "}\n",
    "for key,value in emp.items():\n",
    "    print(key, \":\",value)\n"
   ]
  },
  {
   "cell_type": "code",
   "execution_count": null,
   "id": "55cf33f7-89ca-40a7-bb11-d7cc1921d463",
   "metadata": {},
   "outputs": [],
   "source": []
  }
 ],
 "metadata": {
  "kernelspec": {
   "display_name": "Python 3 (ipykernel)",
   "language": "python",
   "name": "python3"
  },
  "language_info": {
   "codemirror_mode": {
    "name": "ipython",
    "version": 3
   },
   "file_extension": ".py",
   "mimetype": "text/x-python",
   "name": "python",
   "nbconvert_exporter": "python",
   "pygments_lexer": "ipython3",
   "version": "3.11.9"
  }
 },
 "nbformat": 4,
 "nbformat_minor": 5
}
