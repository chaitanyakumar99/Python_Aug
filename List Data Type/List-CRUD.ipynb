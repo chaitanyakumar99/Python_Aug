{
 "cells": [
  {
   "cell_type": "code",
   "execution_count": 2,
   "id": "53ece959-497c-4ae6-8f8e-8e36203a9677",
   "metadata": {},
   "outputs": [
    {
     "name": "stdout",
     "output_type": "stream",
     "text": [
      "5\n"
     ]
    }
   ],
   "source": [
    "li=000000000000000000000000[10,20,30,40,50]\n",
    "\n",
    "print(len (li))"
   ]
  },
  {
   "cell_type": "code",
   "execution_count": null,
   "id": "608be56a-7091-4f97-a22d-f593e8d30f2b",
   "metadata": {},
   "outputs": [],
   "source": []
  }
 ],
 "metadata": {
  "kernelspec": {
   "display_name": "Python 3 (ipykernel)",
   "language": "python",
   "name": "python3"
  },
  "language_info": {
   "codemirror_mode": {
    "name": "ipython",
    "version": 3
   },
   "file_extension": ".py",
   "mimetype": "text/x-python",
   "name": "python",
   "nbconvert_exporter": "python",
   "pygments_lexer": "ipython3",
   "version": "3.11.9"
  }
 },
 "nbformat": 4,
 "nbformat_minor": 5
}
