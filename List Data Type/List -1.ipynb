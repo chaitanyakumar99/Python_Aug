{
 "cells": [
  {
   "cell_type": "code",
   "execution_count": 2,
   "id": "c1256a38-91f2-4c25-8331-4b672bef99cb",
   "metadata": {},
   "outputs": [
    {
     "name": "stdout",
     "output_type": "stream",
     "text": [
      "[10, 20, 30, 'Rahul', True]\n",
      "<class 'list'>\n"
     ]
    }
   ],
   "source": [
    "l=[10,20,30,\"Rahul\",True]\n",
    "print(l)\n",
    "print(type(l))"
   ]
  },
  {
   "cell_type": "code",
   "execution_count": 7,
   "id": "671a91a6-d0e7-48a2-b215-684e867bb546",
   "metadata": {},
   "outputs": [
    {
     "name": "stdout",
     "output_type": "stream",
     "text": [
      "101\n",
      "102\n",
      "103\n",
      "104\n"
     ]
    }
   ],
   "source": [
    "eids=[101,102,103,104]\n",
    "#index  0   1   2   3\n",
    "\n",
    "print(eids[0])\n",
    "print(eids[1])\n",
    "print(eids[2])\n",
    "print(eids[3])"
   ]
  },
  {
   "cell_type": "code",
   "execution_count": 8,
   "id": "cbb17f16-88e5-4c26-acc4-29aa05787f5f",
   "metadata": {},
   "outputs": [
    {
     "name": "stdout",
     "output_type": "stream",
     "text": [
      "104\n",
      "103\n",
      "102\n",
      "101\n"
     ]
    }
   ],
   "source": [
    "eids=[101,102,103,104]\n",
    "#index -4 -3  -2  -1\n",
    "\n",
    "print(eids[-1])\n",
    "print(eids[-2])\n",
    "print(eids[-3])\n",
    "print(eids[-4])"
   ]
  },
  {
   "cell_type": "code",
   "execution_count": 13,
   "id": "96f0fc82-1c0e-432d-8519-8913d0fa959f",
   "metadata": {},
   "outputs": [
    {
     "name": "stdout",
     "output_type": "stream",
     "text": [
      "101\n",
      "102\n",
      "103\n",
      "104\n"
     ]
    }
   ],
   "source": [
    "eids=[101,102,103,104]\n",
    "ename=[\"Rahul\",\"Varma\",\"Kumr\",\"Arun\"]\n",
    "marks=[35,36,37,38,39,40]\n",
    "\n",
    "for eid in eids:\n",
    "    print(eid)"
   ]
  },
  {
   "cell_type": "code",
   "execution_count": 14,
   "id": "92e5343c-ab0f-4031-ac08-5c32727ec430",
   "metadata": {},
   "outputs": [
    {
     "name": "stdout",
     "output_type": "stream",
     "text": [
      "35\n",
      "71\n",
      "108\n",
      "146\n",
      "185\n",
      "225\n"
     ]
    }
   ],
   "source": [
    "total_marks=0\n",
    "\n",
    "for mark in marks:\n",
    "    total_marks=total_marks+mark\n",
    "    print(total_marks)"
   ]
  },
  {
   "cell_type": "code",
   "execution_count": 19,
   "id": "c1ad3f48-d7a9-4b22-aea0-3d584707f382",
   "metadata": {},
   "outputs": [
    {
     "ename": "SyntaxError",
     "evalue": "'[' was never closed (3779750695.py, line 2)",
     "output_type": "error",
     "traceback": [
      "\u001b[1;36m  Cell \u001b[1;32mIn[19], line 2\u001b[1;36m\u001b[0m\n\u001b[1;33m    l2=[10,20,30,40,50\u001b[0m\n\u001b[1;37m       ^\u001b[0m\n\u001b[1;31mSyntaxError\u001b[0m\u001b[1;31m:\u001b[0m '[' was never closed\n"
     ]
    }
   ],
   "source": [
    "l1=[]\n",
    "l2=[10,20,30,40,50\n",
    "l3=eval (input('enter data'))\n",
    "\n",
    "print(l3)"
   ]
  },
  {
   "cell_type": "code",
   "execution_count": null,
   "id": "77cff01e-57fc-4858-87ff-b3392009e131",
   "metadata": {},
   "outputs": [],
   "source": []
  }
 ],
 "metadata": {
  "kernelspec": {
   "display_name": "Python 3 (ipykernel)",
   "language": "python",
   "name": "python3"
  },
  "language_info": {
   "codemirror_mode": {
    "name": "ipython",
    "version": 3
   },
   "file_extension": ".py",
   "mimetype": "text/x-python",
   "name": "python",
   "nbconvert_exporter": "python",
   "pygments_lexer": "ipython3",
   "version": "3.11.9"
  }
 },
 "nbformat": 4,
 "nbformat_minor": 5
}
