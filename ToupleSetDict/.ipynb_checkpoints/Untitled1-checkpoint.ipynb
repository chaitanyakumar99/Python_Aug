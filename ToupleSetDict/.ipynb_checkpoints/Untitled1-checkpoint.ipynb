{
 "cells": [
  {
   "cell_type": "code",
   "execution_count": 1,
   "id": "1f092c7e-dc5e-4a87-8fa6-803b697f1ac0",
   "metadata": {},
   "outputs": [
    {
     "name": "stdout",
     "output_type": "stream",
     "text": [
      "()\n",
      "10\n",
      "(10, 20)\n",
      "(10, 20, 30)\n",
      "(10, 20, 30, 40)\n",
      "(10, 20, 30, 40, 50)\n"
     ]
    }
   ],
   "source": [
    "t1=()\n",
    "t2=10\n",
    "t3=10,20\n",
    "t4=10,20,30\n",
    "t5=10,20,30,40\n",
    "t6=10,20,30,40,50\n",
    "\n",
    "print(t1)\n",
    "print(t2)\n",
    "print(t3)\n",
    "print(t4)\n",
    "print(t5)\n",
    "print(t6)"
   ]
  },
  {
   "cell_type": "code",
   "execution_count": 2,
   "id": "34810c7b-5c81-4aef-85fa-d5a8aa731691",
   "metadata": {},
   "outputs": [
    {
     "name": "stdout",
     "output_type": "stream",
     "text": [
      "<class 'tuple'>\n",
      "<class 'int'>\n",
      "<class 'tuple'>\n",
      "<class 'tuple'>\n",
      "<class 'tuple'>\n",
      "<class 'tuple'>\n"
     ]
    }
   ],
   "source": [
    "t1=()\n",
    "t2=10\n",
    "t3=10,20\n",
    "t4=10,20,30\n",
    "t5=10,20,30,40\n",
    "t6=10,20,30,40,50\n",
    "\n",
    "print(type(t1))\n",
    "print(type(t2))\n",
    "print(type(t3))\n",
    "print(type(t4))\n",
    "print(type(t5))\n",
    "print(type(t6))"
   ]
  },
  {
   "cell_type": "code",
   "execution_count": 3,
   "id": "a3c2bfae-892f-42af-8e44-f7b277dce1d3",
   "metadata": {},
   "outputs": [
    {
     "name": "stdout",
     "output_type": "stream",
     "text": [
      "Rahul\n"
     ]
    }
   ],
   "source": [
    "enames=(\"Rahul\",\"Sonia\",\"Kumar\",\"Amith\")\n",
    "print(enames[0])"
   ]
  },
  {
   "cell_type": "code",
   "execution_count": 4,
   "id": "f619a7f2-4a39-4319-b449-6c4addb57201",
   "metadata": {},
   "outputs": [
    {
     "name": "stdout",
     "output_type": "stream",
     "text": [
      "Rahul\n",
      "Sonia\n",
      "Kumar\n",
      "Amith\n"
     ]
    }
   ],
   "source": [
    "for ename in enames:\n",
    "    print(ename)"
   ]
  },
  {
   "cell_type": "code",
   "execution_count": 5,
   "id": "78c9c80c-b363-4c6b-a11f-10d218829bdf",
   "metadata": {},
   "outputs": [
    {
     "name": "stdout",
     "output_type": "stream",
     "text": [
      "Rahul\n",
      "Sonia\n",
      "Kumar\n",
      "Amith\n"
     ]
    }
   ],
   "source": [
    "i=0\n",
    "while i<=len(enames)-1:\n",
    "    print(enames[i])\n",
    "    i=i+1"
   ]
  },
  {
   "cell_type": "code",
   "execution_count": 6,
   "id": "731aa2a7-1798-4ecc-ba56-c73ad1dd54d1",
   "metadata": {},
   "outputs": [
    {
     "name": "stdout",
     "output_type": "stream",
     "text": [
      "('Jan', 'Feb', 'March')\n"
     ]
    }
   ],
   "source": [
    "months=(\"Jan\",\"Feb\",\"March\")\n",
    "print(months)\n"
   ]
  },
  {
   "cell_type": "code",
   "execution_count": 10,
   "id": "64597c20-9f9d-4cfd-b2d6-2cd7d2b19bda",
   "metadata": {},
   "outputs": [
    {
     "name": "stdout",
     "output_type": "stream",
     "text": [
      "['Amith', 'Kumar', 'Rahul', 'Sonia']\n",
      "<class 'list'>\n",
      "<class 'tuple'>\n"
     ]
    }
   ],
   "source": [
    "enames=(\"Rahul\",\"Sonia\",\"Kumar\",\"Amith\")\n",
    "new_names=sorted(enames)\n",
    "print(new_names)\n",
    "print(type(new_names))\n",
    "\n",
    "enames=tuple(new_names)\n",
    "print(type(enames))"
   ]
  },
  {
   "cell_type": "code",
   "execution_count": 15,
   "id": "a1d1caaf-8919-40d1-b19b-64a693603009",
   "metadata": {},
   "outputs": [
    {
     "name": "stdout",
     "output_type": "stream",
     "text": [
      "1\n"
     ]
    }
   ],
   "source": [
    "enames=(\"Rahul\",\"Sonia\",\"Kumar\",\"Amith\")\n",
    "print(enames.index(\"Sonia\"))\n"
   ]
  },
  {
   "cell_type": "code",
   "execution_count": 17,
   "id": "9fb11d57-587b-48d0-b2f1-76cf8d094848",
   "metadata": {},
   "outputs": [
    {
     "name": "stdout",
     "output_type": "stream",
     "text": [
      "2\n"
     ]
    }
   ],
   "source": [
    "enames=(\"Rahul\",\"Sonia\",\"Sonia\",\"Kumar\",\"Amith\")\n",
    "print(enames.count(\"Sonia\"))\n"
   ]
  },
  {
   "cell_type": "code",
   "execution_count": 20,
   "id": "dfed1fca-0e7d-47b7-8a76-6bdf8e6187b2",
   "metadata": {},
   "outputs": [
    {
     "name": "stdout",
     "output_type": "stream",
     "text": [
      "{True, 20, 10, 'Rahul', 30}\n"
     ]
    }
   ],
   "source": [
    "eids={10,20,30,10,\"Rahul\",True}\n",
    "print(eids)"
   ]
  },
  {
   "cell_type": "code",
   "execution_count": 21,
   "id": "defac065-b396-4173-b1f7-84bd87938ac1",
   "metadata": {},
   "outputs": [
    {
     "name": "stdout",
     "output_type": "stream",
     "text": [
      "101\n",
      "102\n",
      "103\n",
      "104\n",
      "105\n"
     ]
    }
   ],
   "source": [
    "eids={101,102,103,104,105}\n",
    "for eid in eids:\n",
    "    print(eid)"
   ]
  },
  {
   "cell_type": "code",
   "execution_count": 23,
   "id": "375f0e67-aec5-4ce1-b091-924e7f2e5c33",
   "metadata": {},
   "outputs": [
    {
     "name": "stdout",
     "output_type": "stream",
     "text": [
      "{101, 102, 103, 104, 105, 106}\n"
     ]
    }
   ],
   "source": [
    "eids={101,102,103,104,105}\n",
    "eids.add(106)\n",
    "print(eids)"
   ]
  },
  {
   "cell_type": "code",
   "execution_count": 25,
   "id": "2beeae05-c39a-4530-b3ec-38c88c76dc44",
   "metadata": {},
   "outputs": [
    {
     "name": "stdout",
     "output_type": "stream",
     "text": [
      "{100, 70, 40, 10, 80, 50, 20, 90, 60, 30}\n"
     ]
    }
   ],
   "source": [
    "s1={10,20,30,40,50}\n",
    "s2={60,70,80,90,100}\n",
    "\n",
    "s1.update(s2)\n",
    "print(s1)"
   ]
  },
  {
   "cell_type": "code",
   "execution_count": 27,
   "id": "9485a904-fa64-436c-b668-d293be27f5e2",
   "metadata": {},
   "outputs": [
    {
     "name": "stdout",
     "output_type": "stream",
     "text": [
      "{'h', 40, 'R', 10, 'u', 'l', 20, 'a', 30}\n"
     ]
    }
   ],
   "source": [
    "s1={10,20,30,40}\n",
    "s1.update(\"Rahul\")\n",
    "print(s1)\n",
    "\n"
   ]
  },
  {
   "cell_type": "code",
   "execution_count": null,
   "id": "266a0d83-ca40-444a-a50d-99737217ef42",
   "metadata": {},
   "outputs": [],
   "source": []
  }
 ],
 "metadata": {
  "kernelspec": {
   "display_name": "Python 3 (ipykernel)",
   "language": "python",
   "name": "python3"
  },
  "language_info": {
   "codemirror_mode": {
    "name": "ipython",
    "version": 3
   },
   "file_extension": ".py",
   "mimetype": "text/x-python",
   "name": "python",
   "nbconvert_exporter": "python",
   "pygments_lexer": "ipython3",
   "version": "3.11.9"
  }
 },
 "nbformat": 4,
 "nbformat_minor": 5
}
