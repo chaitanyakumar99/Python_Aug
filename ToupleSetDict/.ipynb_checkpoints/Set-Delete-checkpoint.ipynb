{
 "cells": [
  {
   "cell_type": "code",
   "execution_count": 1,
   "id": "11f5d1f4-b789-48b8-94aa-26c31e6b1d17",
   "metadata": {},
   "outputs": [
    {
     "name": "stdout",
     "output_type": "stream",
     "text": [
      "{102, 103, 104, 105}\n"
     ]
    }
   ],
   "source": [
    "eids={101,102,103,104,105}\n",
    "eids.pop()\n",
    "print(eids)\n",
    "\n"
   ]
  },
  {
   "cell_type": "code",
   "execution_count": 7,
   "id": "5fc48df6-6c92-47eb-b718-1af9d0b02047",
   "metadata": {},
   "outputs": [
    {
     "name": "stdout",
     "output_type": "stream",
     "text": [
      "{101, 103, 104, 105}\n"
     ]
    }
   ],
   "source": [
    "eids={101,102,103,104,105}\n",
    "eids.discard(102)\n",
    "print(eids)\n",
    "\n"
   ]
  },
  {
   "cell_type": "markdown",
   "id": "5e870cc4-1e8e-474b-85b7-89354d54b475",
   "metadata": {},
   "source": [
    "eids={101,102,103,104,105}\n",
    "eids.remove(101)\n",
    "print(eids)\n",
    "\n"
   ]
  },
  {
   "cell_type": "code",
   "execution_count": 8,
   "id": "dd58948c-784b-4ce5-a125-23363c3fd159",
   "metadata": {},
   "outputs": [
    {
     "name": "stdout",
     "output_type": "stream",
     "text": [
      "set()\n"
     ]
    }
   ],
   "source": [
    "eids={101,102,103,104,105}\n",
    "eids.clear()\n",
    "print(eids)"
   ]
  },
  {
   "cell_type": "code",
   "execution_count": null,
   "id": "cca0222a-97c1-419b-af59-e9bf26a25604",
   "metadata": {},
   "outputs": [],
   "source": []
  }
 ],
 "metadata": {
  "kernelspec": {
   "display_name": "Python 3 (ipykernel)",
   "language": "python",
   "name": "python3"
  },
  "language_info": {
   "codemirror_mode": {
    "name": "ipython",
    "version": 3
   },
   "file_extension": ".py",
   "mimetype": "text/x-python",
   "name": "python",
   "nbconvert_exporter": "python",
   "pygments_lexer": "ipython3",
   "version": "3.11.9"
  }
 },
 "nbformat": 4,
 "nbformat_minor": 5
}
